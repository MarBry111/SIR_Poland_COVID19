{
 "cells": [
  {
   "cell_type": "code",
   "execution_count": 143,
   "metadata": {},
   "outputs": [],
   "source": [
    "from bs4 import BeautifulSoup \n",
    "import requests \n",
    "import re\n",
    "from scipy.integrate import odeint\n",
    "import numpy as np\n",
    "import matplotlib.pyplot as plt"
   ]
  },
  {
   "cell_type": "markdown",
   "metadata": {},
   "source": [
    "# Get the data\n",
    "Url's of interesting countries, in our scenarion it will be Poland, Malysia and Belgium."
   ]
  },
  {
   "cell_type": "code",
   "execution_count": 144,
   "metadata": {},
   "outputs": [],
   "source": [
    "bg = 'https://www.worldometers.info/coronavirus/country/belgium/'\n",
    "mal = 'https://www.worldometers.info/coronavirus/country/malaysia/'\n",
    "pl = 'https://www.worldometers.info/coronavirus/country/poland/'"
   ]
  },
  {
   "cell_type": "markdown",
   "metadata": {},
   "source": [
    "Get the content of page"
   ]
  },
  {
   "cell_type": "code",
   "execution_count": 145,
   "metadata": {},
   "outputs": [],
   "source": [
    "page = requests.get(pl) \n",
    "soup = BeautifulSoup(page.content) "
   ]
  },
  {
   "cell_type": "markdown",
   "metadata": {},
   "source": [
    "Use regexp to get this kind of data: <br>\n",
    "&emsp; name: 'Recovery Rate',<br>\n",
    "&emsp; color: '#8ACA2B',<br>\n",
    "&emsp; lineWidth: 5,<br>\n",
    "&emsp; data: [ numbers ]"
   ]
  },
  {
   "cell_type": "code",
   "execution_count": 146,
   "metadata": {},
   "outputs": [],
   "source": [
    "names = re.findall(r'series: \\[\\{\\s*name: \\'([a-zA-Z\\s ]*)\\'[a-zA-Z\\#0-9\\s\\n\\,\\.\\'\\: ]*data: \\[([0-9\\,\\s\\.null ]*)\\]', page.text)"
   ]
  },
  {
   "cell_type": "markdown",
   "metadata": {},
   "source": [
    "Split names and data"
   ]
  },
  {
   "cell_type": "code",
   "execution_count": 147,
   "metadata": {},
   "outputs": [],
   "source": [
    "datas = [n[1] for n in names]\n",
    "names = [n[0] for n in names]"
   ]
  },
  {
   "cell_type": "markdown",
   "metadata": {},
   "source": [
    "Make data more userfirendly - to floats and then to np.array"
   ]
  },
  {
   "cell_type": "code",
   "execution_count": 148,
   "metadata": {},
   "outputs": [],
   "source": [
    "datas = [d.split(',') for d in datas]"
   ]
  },
  {
   "cell_type": "code",
   "execution_count": 149,
   "metadata": {},
   "outputs": [],
   "source": [
    "datas = [[ np.nan if d == 'null' else float(d) for d in data] for data in datas]"
   ]
  },
  {
   "cell_type": "code",
   "execution_count": 164,
   "metadata": {},
   "outputs": [],
   "source": [
    "datas = np.nan_to_num(datas,0)"
   ]
  },
  {
   "cell_type": "code",
   "execution_count": 150,
   "metadata": {},
   "outputs": [
    {
     "data": {
      "text/plain": [
       "(10, 110)"
      ]
     },
     "execution_count": 150,
     "metadata": {},
     "output_type": "execute_result"
    }
   ],
   "source": [
    "datas = np.array(datas)\n",
    "datas.shape"
   ]
  },
  {
   "cell_type": "markdown",
   "metadata": {},
   "source": [
    "Names of each array"
   ]
  },
  {
   "cell_type": "code",
   "execution_count": 155,
   "metadata": {},
   "outputs": [
    {
     "name": "stdout",
     "output_type": "stream",
     "text": [
      "0 Currently Infected\n",
      "1 Death Rate\n",
      "2 Cases\n",
      "3 Cases\n",
      "4 Daily Cases\n",
      "5 Currently Infected\n",
      "6 Deaths\n",
      "7 Deaths\n",
      "8 Daily Deaths\n",
      "9 Death Rate\n"
     ]
    }
   ],
   "source": [
    "for i, n in enumerate(names):\n",
    "    print(i,n)"
   ]
  },
  {
   "cell_type": "markdown",
   "metadata": {},
   "source": [
    "Get dates"
   ]
  },
  {
   "cell_type": "code",
   "execution_count": 141,
   "metadata": {},
   "outputs": [
    {
     "data": {
      "text/plain": [
       "110"
      ]
     },
     "execution_count": 141,
     "metadata": {},
     "output_type": "execute_result"
    }
   ],
   "source": [
    "dates = re.findall(r'categories: \\[([\\\"A-Za-z\\s0-9\\, ]*)\\]\\n', page.text)[0]\n",
    "dates = dates.replace('\"','').split(',')\n",
    "len(dates)"
   ]
  },
  {
   "cell_type": "markdown",
   "metadata": {},
   "source": [
    "# Real data"
   ]
  },
  {
   "cell_type": "code",
   "execution_count": 157,
   "metadata": {},
   "outputs": [],
   "source": [
    "def moving_average(a, n=3) :\n",
    "    ret = np.cumsum(a, dtype=float)\n",
    "    ret[n:] = ret[n:] - ret[:-n]\n",
    "    return ret[n - 1:] / n"
   ]
  },
  {
   "cell_type": "code",
   "execution_count": 178,
   "metadata": {},
   "outputs": [],
   "source": [
    "#restrictions\n",
    "r0 = dates.index('Mar 16')\n",
    "r1 = dates.index('Mar 24')\n",
    "r2 = dates.index('Mar 31')\n",
    "#freedoms\n",
    "f0 = dates.index('Apr 20')\n",
    "f1 = dates.index('May 04')\n",
    "f2 = dates.index('May 18')\n",
    "f3 = dates.index('May 30')"
   ]
  },
  {
   "cell_type": "code",
   "execution_count": 183,
   "metadata": {},
   "outputs": [
    {
     "data": {
      "text/plain": [
       "[<matplotlib.lines.Line2D at 0x7f5c8e7c6850>]"
      ]
     },
     "execution_count": 183,
     "metadata": {},
     "output_type": "execute_result"
    },
    {
     "data": {
      "image/png": "[encoded data removed]",
      "text/plain": [
       "<Figure size 432x288 with 1 Axes>"
      ]
     },
     "metadata": {
      "needs_background": "light"
     },
     "output_type": "display_data"
    }
   ],
   "source": [
    "plt.plot(datas[4])\n",
    "plt.plot(moving_average(datas[4],2))\n",
    "plt.plot([r0,r0],[0,600], c='r')\n",
    "plt.plot([r1,r1],[0,600], c='r')\n",
    "plt.plot([r2,r2],[0,600], c='r')\n",
    "plt.plot([f1,f1],[0,600], c='b')\n",
    "plt.plot([f2,f2],[0,600], c='b')\n",
    "plt.plot([f3,f3],[0,600], c='b')"
   ]
  },
  {
   "cell_type": "markdown",
   "metadata": {},
   "source": [
    "# Calculation od model"
   ]
  },
  {
   "cell_type": "markdown",
   "metadata": {},
   "source": [
    "Iitialize parameters"
   ]
  },
  {
   "cell_type": "code",
   "execution_count": 121,
   "metadata": {},
   "outputs": [],
   "source": [
    "# Total population, N.\n",
    "N = 1000\n",
    "# Initial number of infected and recovered individuals, I0 and R0.\n",
    "I0, R0 = 1, 0\n",
    "# Everyone else, S0, is susceptible to infection initially.\n",
    "S0 = N - I0 - R0\n",
    "# Contact rate, beta, and mean recovery rate, gamma, (in 1/days).\n",
    "beta, gamma = 0.2, 1./10 \n",
    "# A grid of time points (in days)\n",
    "t = np.linspace(0, 160, 160)"
   ]
  },
  {
   "cell_type": "markdown",
   "metadata": {},
   "source": [
    "Function to count derivatives <br>\n",
    "credit: https://scipython.com/book/chapter-8-scipy/additional-examples/the-sir-epidemic-model/"
   ]
  },
  {
   "cell_type": "code",
   "execution_count": 122,
   "metadata": {},
   "outputs": [],
   "source": [
    "# The SIR model differential equations.\n",
    "def deriv(y, t, N, beta, gamma):\n",
    "    S, I, R = y\n",
    "    dSdt = -beta * S * I / N\n",
    "    dIdt = beta * S * I / N - gamma * I\n",
    "    dRdt = gamma * I\n",
    "    return dSdt, dIdt, dRdt"
   ]
  },
  {
   "cell_type": "markdown",
   "metadata": {},
   "source": [
    "Run model"
   ]
  },
  {
   "cell_type": "code",
   "execution_count": 123,
   "metadata": {},
   "outputs": [],
   "source": [
    "# Initial conditions vector\n",
    "y0 = S0, I0, R0\n",
    "# Integrate the SIR equations over the time grid, t.\n",
    "ret = odeint(deriv, y0, t, args=(N, beta, gamma))\n",
    "S, I, R = ret.T"
   ]
  },
  {
   "cell_type": "markdown",
   "metadata": {},
   "source": [
    "Plotting results"
   ]
  },
  {
   "cell_type": "code",
   "execution_count": 131,
   "metadata": {},
   "outputs": [
    {
     "data": {
      "image/png": "[encoded data removed]",
      "text/plain": [
       "<Figure size 432x288 with 1 Axes>"
      ]
     },
     "metadata": {
      "needs_background": "light"
     },
     "output_type": "display_data"
    }
   ],
   "source": [
    "# Plot the data on three separate curves for S(t), I(t) and R(t)\n",
    "fig = plt.figure()\n",
    "plt.plot(t, S/1000, 'b', alpha=0.5, lw=2, label='Susceptible')\n",
    "plt.plot(t, I/1000, 'r', alpha=0.5, lw=2, label='Infected')\n",
    "plt.plot(t, R/1000, 'g', alpha=0.5, lw=2, label='Recovered with immunity')\n",
    "plt.xlabel('Time /days')\n",
    "plt.ylabel('Number (1000s)')\n",
    "plt.ylim(0,1.2)\n",
    "legend = plt.legend()\n",
    "legend.get_frame().set_alpha(0.5)\n",
    "for spine in ('top', 'right', 'bottom', 'left'):\n",
    "    ax.spines[spine].set_visible(False)\n",
    "plt.show()"
   ]
  },
  {
   "cell_type": "markdown",
   "metadata": {},
   "source": [
    "## Poland\n",
    "Koronawirus COVID-19. Czwarty etap znoszenia ograniczeń [30.05.2020] <br>\n",
    "Zniesienie obowiązku zasłaniania ust i nosa w przestrzeni otwartej [30.05.2020] <br>\n",
    "Koronawirus COVID-19. Trzeci etap znoszenia ograniczeń [18.05.2020] <br>\n",
    "Koronawirus COVID-19. Drugi etap znoszenia ograniczeń [04.05.2020] <br>\n",
    "Koronawirus COVID-19. Pierwszy etap znoszenia ograniczeń [20.04.2020] <br>\n",
    "Obowiązek zasłaniania ust i nosa [16.04.2020] <br>\n",
    "Ograniczenia na Wielkanoc [09.04.2020] <br>\n",
    "Wprowadzenie kolejnych ograniczeń i zakazów w Polsce [31.03.2020] <br>\n",
    "Nowe restrykcje i ograniczenia wprowadzone w Polsce [24.03.2020] <br>\n",
    "Stan zagrożenia epidemicznego w Polsce – jakie ograniczenia wprowadzono? [16.03.2020] <br> \n",
    "https://www.medonet.pl/koronawirus-pytania-i-odpowiedzi/sars-cov-2,koronawirus---obostrzenia-w-polsce--etapy-znoszenia-ograniczen--aktualne-dane-,artykul,98382723.html"
   ]
  },
  {
   "cell_type": "code",
   "execution_count": null,
   "metadata": {},
   "outputs": [],
   "source": []
  }
 ],
 "metadata": {
  "kernelspec": {
   "display_name": "Python 3",
   "language": "python",
   "name": "python3"
  },
  "language_info": {
   "codemirror_mode": {
    "name": "ipython",
    "version": 3
   },
   "file_extension": ".py",
   "mimetype": "text/x-python",
   "name": "python",
   "nbconvert_exporter": "python",
   "pygments_lexer": "ipython3",
   "version": "3.7.5"
  }
 },
 "nbformat": 4,
 "nbformat_minor": 2
}
